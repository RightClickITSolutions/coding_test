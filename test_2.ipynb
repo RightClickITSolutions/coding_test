{
 "cells": [
  {
   "cell_type": "markdown",
   "id": "c3b13498",
   "metadata": {},
   "source": [
    "## TEST 2"
   ]
  },
  {
   "cell_type": "code",
   "execution_count": 10,
   "id": "692285d0",
   "metadata": {},
   "outputs": [],
   "source": [
    "def milk_info(amount_milk: float):\n",
    "    \"\"\" This function accept one parameter (amount of milk in litres) \n",
    "        and then calculate the number of catons, the cost and the profit of the milk\n",
    "        and then returns the result\n",
    "    \"\"\"\n",
    "    # calculating the number of cartons\n",
    "    number_of_carton = round(amount_milk/3.78)\n",
    "    \n",
    "    #calculating the cost of the milk\n",
    "    cost = number_of_carton * 250\n",
    "    \n",
    "    #calculate the profit gained\n",
    "    profit = number_of_carton * 18\n",
    "    \n",
    "    result =(\n",
    "             f\"The number of caton for {amount_milk} litre of milk is: {number_of_carton} \"\n",
    "             f\"\\nThe cost is: {cost} Naira\"\n",
    "             f\"\\nThe profit is: {profit} Naira\"\n",
    "            )\n",
    "    return(result)"
   ]
  },
  {
   "cell_type": "code",
   "execution_count": 11,
   "id": "ce1cf350",
   "metadata": {},
   "outputs": [
    {
     "name": "stdout",
     "output_type": "stream",
     "text": [
      "Enter the amount of milk produced in Litre: 3.78\n",
      "The number of caton for 3.78 litre of milk is: 1 \n",
      "The cost is: 250 Naira\n",
      "The profit is: 18 Naira\n"
     ]
    }
   ],
   "source": [
    "#creating an input field that allow user to input the amount\n",
    "amount_of_milk = float(input(\"Enter the amount of milk produced in Litre: \"))\n",
    "\n",
    "# diplay the result by calling the function milk_info and pass the details gotten from user\n",
    "print(milk_info(amount_of_milk))"
   ]
  },
  {
   "cell_type": "code",
   "execution_count": null,
   "id": "2f10c513",
   "metadata": {},
   "outputs": [],
   "source": []
  }
 ],
 "metadata": {
  "kernelspec": {
   "display_name": "Python 3 (ipykernel)",
   "language": "python",
   "name": "python3"
  },
  "language_info": {
   "codemirror_mode": {
    "name": "ipython",
    "version": 3
   },
   "file_extension": ".py",
   "mimetype": "text/x-python",
   "name": "python",
   "nbconvert_exporter": "python",
   "pygments_lexer": "ipython3",
   "version": "3.9.12"
  }
 },
 "nbformat": 4,
 "nbformat_minor": 5
}
