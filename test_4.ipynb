{
 "cells": [
  {
   "cell_type": "markdown",
   "id": "c6d4b233",
   "metadata": {},
   "source": [
    "## TEST 4"
   ]
  },
  {
   "cell_type": "code",
   "execution_count": 78,
   "id": "447f8932",
   "metadata": {},
   "outputs": [],
   "source": [
    "def find_word(puzzle, word):\n",
    "    \"\"\"\n",
    "    This function accept one parameter(word),\n",
    "    the word will be searched in the in the list of word \n",
    "    and then retun the index number\n",
    "    \"\"\"\n",
    "    \n",
    "    table_row = 18   # number or puzzle row\n",
    "    table_col = 18   #number of puzzle col\n",
    "    word_length = len(word)    # number of character for the specified word\n",
    "    word = word.upper()        # converting the word to upper case letter for it to mach the puzzle leeters\n",
    "    \n",
    "      # checking for horizontal matches\n",
    "    for row in range(table_row): \n",
    "        for col in range(table_col - word_length +1):\n",
    "            if puzzle[row][col:col+word_length] == list(word):\n",
    "                return [(row, i) for i in range(col, col+word_length)]\n",
    "            \n",
    "    # checking for vertical matches\n",
    "    for col in range(table_col):\n",
    "        for row in range(table_row - word_length + 1):\n",
    "            if [puzzle[row+i][col] for i in range(word_length)] == list(word):\n",
    "                return [(row+i, col) for i in range(word_length)]\n",
    "            \n",
    "    \n",
    "    # if word is not found, will return the message\n",
    "    return \"Word not found\""
   ]
  },
  {
   "cell_type": "code",
   "execution_count": 10,
   "id": "0ca530be",
   "metadata": {},
   "outputs": [],
   "source": [
    "# creating the puzzle\n",
    "puzzle = [\n",
    "           ['P','G','T','H','S','S','M','A','L','L','F','O','R','W','A','R','D','J'],\n",
    "           ['U','N','T','T','O','N','H','E','I','R','N','B','T','M','V','E','E','W'],\n",
    "           ['Y','I','D','R','H','O','O','N','G','C','E','U','E','T','I','R','S','O'],\n",
    "           ['A','S','R','O','U','R','P','I','O','N','O','B','S','N','S','R','L','R'],\n",
    "           ['L','S','A','U','P','O','E','A','T','E','I','C','O','E','C','O','A','H'],\n",
    "           ['R','A','U','T','O','R','C','E','M','U','O','L','Y','U','O','H','M','T'],\n",
    "           ['E','P','G','O','I','H','O','I','P','R','T','F','B','G','N','D','D','E'],\n",
    "           ['Y','B','G','F','N','R','T','V','E','O','A','I','N','B','R','D','U','E'],\n",
    "           ['A','T','N','B','T','S','E','B','E','S','I','I','T','A','I','M','N','R'],\n",
    "           ['L','S','I','O','S','K','O','T','N','R','L','N','W','S','A','R','K','F'],\n",
    "           ['P','I','T','U','E','A','T','E','R','E','T','R','T','E','B','B','D','S'],\n",
    "           ['B','S','O','N','R','A','A','T','V','A','O','I','T','E','L','U','H','L'],\n",
    "           ['L','S','O','D','W','K','E','A','A','F','U','S','M','J','R','O','S','A'],\n",
    "           ['O','A','H','S','E','K','R','F','R','M','E','Q','R','E','T','N','E','C'],\n",
    "           ['C','L','S','R','S','T','O','E','B','A','C','K','B','O','A','R','D','S'],\n",
    "           ['K','L','S','A','N','U','W','G','A','M','E','M','I','T','F','L','A','H'],\n",
    "           ['A','A','B','C','L','O','C','K','I','R','E','F','E','R','E','E','S','M'],\n",
    "           ['I','B','T','H','P','T','E','N','D','R','A','U','G','T','N','I','O','P'],\n",
    "        ]"
   ]
  },
  {
   "cell_type": "code",
   "execution_count": 83,
   "id": "598b556b",
   "metadata": {},
   "outputs": [
    {
     "name": "stdout",
     "output_type": "stream",
     "text": [
      "Enter the word to search for: point\n"
     ]
    },
    {
     "data": {
      "text/plain": [
       "[(4, 4), (5, 4), (6, 4), (7, 4), (8, 4)]"
      ]
     },
     "execution_count": 83,
     "metadata": {},
     "output_type": "execute_result"
    }
   ],
   "source": [
    "#creating an input field that allow user to input the word\n",
    "word = str(input(\"Enter the word to search for: \"))\n",
    "find_word(puzzle,word)"
   ]
  },
  {
   "cell_type": "code",
   "execution_count": null,
   "id": "813369e8",
   "metadata": {},
   "outputs": [],
   "source": []
  }
 ],
 "metadata": {
  "kernelspec": {
   "display_name": "Python 3 (ipykernel)",
   "language": "python",
   "name": "python3"
  },
  "language_info": {
   "codemirror_mode": {
    "name": "ipython",
    "version": 3
   },
   "file_extension": ".py",
   "mimetype": "text/x-python",
   "name": "python",
   "nbconvert_exporter": "python",
   "pygments_lexer": "ipython3",
   "version": "3.9.12"
  }
 },
 "nbformat": 4,
 "nbformat_minor": 5
}
