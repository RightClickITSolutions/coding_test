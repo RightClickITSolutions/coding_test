{
 "cells": [
  {
   "cell_type": "markdown",
   "id": "76c67b1b",
   "metadata": {},
   "source": [
    "## TEST 3"
   ]
  },
  {
   "cell_type": "code",
   "execution_count": 1,
   "id": "51f0c93d",
   "metadata": {},
   "outputs": [],
   "source": [
    "import pandas as pd\n",
    "import numpy as np"
   ]
  },
  {
   "cell_type": "code",
   "execution_count": 38,
   "id": "077f7cc7",
   "metadata": {},
   "outputs": [],
   "source": [
    "def goat_awards(csv_file: str)-> dict:\n",
    "    \"\"\"\n",
    "    This function accept one parameter(csv file), \n",
    "    and then return the who has the maximum for Point, Assist, Rebounds, Blocks in form of dictionary   \n",
    "    \"\"\"\n",
    "    # read the csv file using pandas dataframe\n",
    "    df =  pd.read_csv(csv_file)\n",
    "    \n",
    "    #\n",
    "    the_selected_columns = [\"points\", \"assists\", \"rebounds\", \"blocks\"]\n",
    "    \n",
    "    # create dictionary with empty values for the keys\n",
    "    result = { \n",
    "                \"most_points\": [],\n",
    "                \"most_assists\": [],\n",
    "                \"most_rebounds\": [],\n",
    "                \"most_blocks\": [] \n",
    "             }\n",
    "    # creating for loop to get result for all\n",
    "    for i, x in zip(the_selected_columns, result):\n",
    "        max_data = df[i].max()\n",
    "        data_for_column = df[[i, \"name\"]]\n",
    "        filtered_data = data_for_column[data_for_column[i] == max_data]\n",
    "        get_max_value = filtered_data.iloc[0,1]\n",
    "        get_name = filtered_data.iloc[0,0]\n",
    "        result[x] = [get_max_value, get_name]\n",
    "        \n",
    "    # returning the result   \n",
    "    return result"
   ]
  },
  {
   "cell_type": "code",
   "execution_count": 40,
   "id": "673b2794",
   "metadata": {},
   "outputs": [
    {
     "data": {
      "text/plain": [
       "{'most_points': ['John Smith', 51],\n",
       " 'most_assists': ['John Smith', 21],\n",
       " 'most_rebounds': ['Emily Johnson', 21],\n",
       " 'most_blocks': ['John Smith', 11]}"
      ]
     },
     "execution_count": 40,
     "metadata": {},
     "output_type": "execute_result"
    }
   ],
   "source": [
    "# calling the method and passing the created csv file\n",
    "goat_awards(\"players_stats.csv\")"
   ]
  },
  {
   "cell_type": "code",
   "execution_count": null,
   "id": "03cae697",
   "metadata": {},
   "outputs": [],
   "source": []
  }
 ],
 "metadata": {
  "kernelspec": {
   "display_name": "Python 3 (ipykernel)",
   "language": "python",
   "name": "python3"
  },
  "language_info": {
   "codemirror_mode": {
    "name": "ipython",
    "version": 3
   },
   "file_extension": ".py",
   "mimetype": "text/x-python",
   "name": "python",
   "nbconvert_exporter": "python",
   "pygments_lexer": "ipython3",
   "version": "3.9.12"
  }
 },
 "nbformat": 4,
 "nbformat_minor": 5
}
