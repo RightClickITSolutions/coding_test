{
 "cells": [
  {
   "cell_type": "markdown",
   "id": "7ddb793d",
   "metadata": {},
   "source": [
    "## TEST 1"
   ]
  },
  {
   "cell_type": "code",
   "execution_count": 1,
   "id": "8dd554f8",
   "metadata": {},
   "outputs": [],
   "source": [
    "def actual_storage_conversion(manufacture_size: float):\n",
    "    \"\"\"\n",
    "       This function accepts one parameter(manufacture size in GB)\n",
    "       and then convert it to actual storage size\n",
    "    \"\"\"\n",
    "    # converting the manufacture size from gigabyte to byte using thier value for bytes\n",
    "    manufacture_size_to_byte = manufacture_size * (1000**3)\n",
    "    \n",
    "    # calculating the manufacturer bytes to  actual gigabyte \n",
    "    actual_storage_capacity = round(manufacture_size_to_byte / (1024**3), 2)\n",
    "    \n",
    "    result = f\"The actual size for {manufacture_size} is : {actual_storage_capacity}\"\n",
    "    \n",
    "    return result    "
   ]
  },
  {
   "cell_type": "code",
   "execution_count": 2,
   "id": "b54cce6f",
   "metadata": {},
   "outputs": [
    {
     "name": "stdout",
     "output_type": "stream",
     "text": [
      "Enter the Manufacture size in GigaByte: 40\n"
     ]
    },
    {
     "data": {
      "text/plain": [
       "'The actual size for 40.0 is : 37.25'"
      ]
     },
     "execution_count": 2,
     "metadata": {},
     "output_type": "execute_result"
    }
   ],
   "source": [
    "#creating an input field that allow user to input the size in GB\n",
    "manufacture_size = float(input(\"Enter the Manufacture size in GigaByte: \"))\n",
    "\n",
    "actual_storage_conversion(manufacture_size)"
   ]
  },
  {
   "cell_type": "code",
   "execution_count": null,
   "id": "26bc1b10",
   "metadata": {},
   "outputs": [],
   "source": []
  }
 ],
 "metadata": {
  "kernelspec": {
   "display_name": "Python 3 (ipykernel)",
   "language": "python",
   "name": "python3"
  },
  "language_info": {
   "codemirror_mode": {
    "name": "ipython",
    "version": 3
   },
   "file_extension": ".py",
   "mimetype": "text/x-python",
   "name": "python",
   "nbconvert_exporter": "python",
   "pygments_lexer": "ipython3",
   "version": "3.9.12"
  }
 },
 "nbformat": 4,
 "nbformat_minor": 5
}
